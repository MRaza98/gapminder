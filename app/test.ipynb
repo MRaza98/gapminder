{
 "cells": [
  {
   "cell_type": "code",
   "execution_count": 30,
   "metadata": {},
   "outputs": [
    {
     "name": "stderr",
     "output_type": "stream",
     "text": [
      "2024-05-18 10:48:42.294 \n",
      "  \u001b[33m\u001b[1mWarning:\u001b[0m to view this Streamlit app on a browser, run it with the following\n",
      "  command:\n",
      "\n",
      "    streamlit run /Users/muhammadraza/Library/Python/3.10/lib/python/site-packages/ipykernel_launcher.py [ARGUMENTS]\n"
     ]
    }
   ],
   "source": [
    "import streamlit as st\n",
    "import pandas as pd\n",
    "import numpy as np\n",
    "\n",
    "st.title('Gapminder')\n",
    "st.write(\"Unlocking Lifetimes: Visualizing Progress in Longevity and Poverty Eradication\")\n",
    "\n",
    "# Transform the data\n",
    "\n",
    "pop = pd.read_csv('pop.csv')\n",
    "gni = pd.read_csv('ny_gnp_pcap_pp_cd.csv')\n",
    "life = pd.read_csv('lex.csv')\n",
    "\n",
    "# Fill in missing rows\n",
    "\n",
    "gni = gni.ffill()\n",
    "gni = gni.ffill(axis=1)\n",
    "pop = pop.ffill()\n",
    "pop = pop.ffill(axis=1)\n",
    "life = life.ffill()\n",
    "life = life.ffill(axis=1)\n",
    "\n",
    "# Converting df from wide to long format\n",
    "\n",
    "gni = pd.melt(gni, id_vars=['country'], var_name='year', value_name='gni')\n",
    "pop = pd.melt(pop, id_vars=['country'], var_name='year', value_name='population')\n",
    "life = pd.melt(life, id_vars=['country'], var_name='year', value_name='life_expectancy')\n",
    "\n",
    "# Converting year column to numeric\n",
    "gni['year'] = pd.to_numeric(gni['year'], errors='coerce')\n",
    "pop['year'] = pd.to_numeric(pop['year'], errors='coerce')\n",
    "life['year'] = pd.to_numeric(life['year'], errors='coerce')"
   ]
  },
  {
   "cell_type": "code",
   "execution_count": 36,
   "metadata": {},
   "outputs": [
    {
     "data": {
      "text/plain": [
       "country    object\n",
       "year        int64\n",
       "gni        object\n",
       "dtype: object"
      ]
     },
     "execution_count": 36,
     "metadata": {},
     "output_type": "execute_result"
    }
   ],
   "source": [
    "gni.dtypes"
   ]
  },
  {
   "cell_type": "code",
   "execution_count": 37,
   "metadata": {},
   "outputs": [],
   "source": [
    "# Merging together\n",
    "\n",
    "df = pd.merge(gni, pop, on=['country', 'year'])\n",
    "\n",
    "df = pd.merge(df, life, on=['country', 'year'])\n",
    "\n",
    "\n",
    "# Function to clean and convert GNI values\n",
    "\n",
    "def clean_gni(value):\n",
    "    if isinstance(value, str):\n",
    "        value = value.replace(',', '').replace('k', '000')\n",
    "    try:\n",
    "        return float(value)\n",
    "    except ValueError:\n",
    "        return np.nan\n",
    "    \n",
    "# Clean and preprocess the data\n",
    "\n",
    "df['gni'] = df['gni'].apply(clean_gni)\n",
    "\n",
    "# Apply the logarithmic transformation\n",
    "\n",
    "df['gni'] = np.log(df['gni'])"
   ]
  },
  {
   "cell_type": "code",
   "execution_count": 38,
   "metadata": {},
   "outputs": [
    {
     "data": {
      "text/plain": [
       "country             object\n",
       "year                 int64\n",
       "gni                float64\n",
       "population          object\n",
       "life_expectancy     object\n",
       "dtype: object"
      ]
     },
     "execution_count": 38,
     "metadata": {},
     "output_type": "execute_result"
    }
   ],
   "source": [
    "df.dtypes"
   ]
  },
  {
   "cell_type": "code",
   "execution_count": 26,
   "metadata": {},
   "outputs": [],
   "source": [
    "pop = pd.read_csv('pop.csv')\n",
    "gni = pd.read_csv('ny_gnp_pcap_pp_cd.csv')\n",
    "life = pd.read_csv('lex.csv')\n",
    "\n",
    "# Fill in missing rows\n",
    "\n",
    "gni = gni.ffill()\n",
    "gni = gni.ffill(axis=1)\n",
    "pop = pop.ffill()\n",
    "pop = pop.ffill(axis=1)\n",
    "life = life.ffill()\n",
    "life = life.ffill(axis=1)"
   ]
  },
  {
   "cell_type": "code",
   "execution_count": 27,
   "metadata": {},
   "outputs": [
    {
     "data": {
      "text/html": [
       "<div>\n",
       "<style scoped>\n",
       "    .dataframe tbody tr th:only-of-type {\n",
       "        vertical-align: middle;\n",
       "    }\n",
       "\n",
       "    .dataframe tbody tr th {\n",
       "        vertical-align: top;\n",
       "    }\n",
       "\n",
       "    .dataframe thead th {\n",
       "        text-align: right;\n",
       "    }\n",
       "</style>\n",
       "<table border=\"1\" class=\"dataframe\">\n",
       "  <thead>\n",
       "    <tr style=\"text-align: right;\">\n",
       "      <th></th>\n",
       "      <th>country</th>\n",
       "      <th>1990</th>\n",
       "      <th>1991</th>\n",
       "      <th>1992</th>\n",
       "      <th>1993</th>\n",
       "      <th>1994</th>\n",
       "      <th>1995</th>\n",
       "      <th>1996</th>\n",
       "      <th>1997</th>\n",
       "      <th>1998</th>\n",
       "      <th>...</th>\n",
       "      <th>2013</th>\n",
       "      <th>2014</th>\n",
       "      <th>2015</th>\n",
       "      <th>2016</th>\n",
       "      <th>2017</th>\n",
       "      <th>2018</th>\n",
       "      <th>2019</th>\n",
       "      <th>2020</th>\n",
       "      <th>2021</th>\n",
       "      <th>2022</th>\n",
       "    </tr>\n",
       "  </thead>\n",
       "  <tbody>\n",
       "    <tr>\n",
       "      <th>0</th>\n",
       "      <td>Aruba</td>\n",
       "      <td>20.5k</td>\n",
       "      <td>22.2k</td>\n",
       "      <td>23.2k</td>\n",
       "      <td>24.6k</td>\n",
       "      <td>26.3k</td>\n",
       "      <td>26.9k</td>\n",
       "      <td>26.8k</td>\n",
       "      <td>28.3k</td>\n",
       "      <td>28.6k</td>\n",
       "      <td>...</td>\n",
       "      <td>34.7k</td>\n",
       "      <td>35.5k</td>\n",
       "      <td>35.8k</td>\n",
       "      <td>35.9k</td>\n",
       "      <td>36.7k</td>\n",
       "      <td>39k</td>\n",
       "      <td>40.6k</td>\n",
       "      <td>34.1k</td>\n",
       "      <td>41.6k</td>\n",
       "      <td>41.6k</td>\n",
       "    </tr>\n",
       "    <tr>\n",
       "      <th>1</th>\n",
       "      <td>Afghanistan</td>\n",
       "      <td>20.5k</td>\n",
       "      <td>22.2k</td>\n",
       "      <td>23.2k</td>\n",
       "      <td>24.6k</td>\n",
       "      <td>26.3k</td>\n",
       "      <td>26.9k</td>\n",
       "      <td>26.8k</td>\n",
       "      <td>28.3k</td>\n",
       "      <td>28.6k</td>\n",
       "      <td>...</td>\n",
       "      <td>2070</td>\n",
       "      <td>2110</td>\n",
       "      <td>2150</td>\n",
       "      <td>2040</td>\n",
       "      <td>2120</td>\n",
       "      <td>2130</td>\n",
       "      <td>2200</td>\n",
       "      <td>2100</td>\n",
       "      <td>1690</td>\n",
       "      <td>1690</td>\n",
       "    </tr>\n",
       "    <tr>\n",
       "      <th>2</th>\n",
       "      <td>Angola</td>\n",
       "      <td>3000</td>\n",
       "      <td>3320</td>\n",
       "      <td>1630</td>\n",
       "      <td>1500</td>\n",
       "      <td>1260</td>\n",
       "      <td>2350</td>\n",
       "      <td>2420</td>\n",
       "      <td>2830</td>\n",
       "      <td>2820</td>\n",
       "      <td>...</td>\n",
       "      <td>7090</td>\n",
       "      <td>7630</td>\n",
       "      <td>6900</td>\n",
       "      <td>6660</td>\n",
       "      <td>6770</td>\n",
       "      <td>6500</td>\n",
       "      <td>6260</td>\n",
       "      <td>5800</td>\n",
       "      <td>5990</td>\n",
       "      <td>6450</td>\n",
       "    </tr>\n",
       "    <tr>\n",
       "      <th>3</th>\n",
       "      <td>Albania</td>\n",
       "      <td>2550</td>\n",
       "      <td>1880</td>\n",
       "      <td>1740</td>\n",
       "      <td>2110</td>\n",
       "      <td>2300</td>\n",
       "      <td>2710</td>\n",
       "      <td>3050</td>\n",
       "      <td>2780</td>\n",
       "      <td>3110</td>\n",
       "      <td>...</td>\n",
       "      <td>10.8k</td>\n",
       "      <td>11.4k</td>\n",
       "      <td>11.8k</td>\n",
       "      <td>12.3k</td>\n",
       "      <td>12.8k</td>\n",
       "      <td>13.5k</td>\n",
       "      <td>14.2k</td>\n",
       "      <td>13.8k</td>\n",
       "      <td>15.3k</td>\n",
       "      <td>18.2k</td>\n",
       "    </tr>\n",
       "    <tr>\n",
       "      <th>4</th>\n",
       "      <td>UAE</td>\n",
       "      <td>2550</td>\n",
       "      <td>1880</td>\n",
       "      <td>1740</td>\n",
       "      <td>2110</td>\n",
       "      <td>2300</td>\n",
       "      <td>2710</td>\n",
       "      <td>3050</td>\n",
       "      <td>2780</td>\n",
       "      <td>3110</td>\n",
       "      <td>...</td>\n",
       "      <td>76k</td>\n",
       "      <td>79k</td>\n",
       "      <td>70k</td>\n",
       "      <td>69.2k</td>\n",
       "      <td>71.7k</td>\n",
       "      <td>73.5k</td>\n",
       "      <td>75.2k</td>\n",
       "      <td>71.1k</td>\n",
       "      <td>76.8k</td>\n",
       "      <td>87.3k</td>\n",
       "    </tr>\n",
       "  </tbody>\n",
       "</table>\n",
       "<p>5 rows × 34 columns</p>\n",
       "</div>"
      ],
      "text/plain": [
       "       country   1990   1991   1992   1993   1994   1995   1996   1997   1998  \\\n",
       "0        Aruba  20.5k  22.2k  23.2k  24.6k  26.3k  26.9k  26.8k  28.3k  28.6k   \n",
       "1  Afghanistan  20.5k  22.2k  23.2k  24.6k  26.3k  26.9k  26.8k  28.3k  28.6k   \n",
       "2       Angola   3000   3320   1630   1500   1260   2350   2420   2830   2820   \n",
       "3      Albania   2550   1880   1740   2110   2300   2710   3050   2780   3110   \n",
       "4          UAE   2550   1880   1740   2110   2300   2710   3050   2780   3110   \n",
       "\n",
       "   ...   2013   2014   2015   2016   2017   2018   2019   2020   2021   2022  \n",
       "0  ...  34.7k  35.5k  35.8k  35.9k  36.7k    39k  40.6k  34.1k  41.6k  41.6k  \n",
       "1  ...   2070   2110   2150   2040   2120   2130   2200   2100   1690   1690  \n",
       "2  ...   7090   7630   6900   6660   6770   6500   6260   5800   5990   6450  \n",
       "3  ...  10.8k  11.4k  11.8k  12.3k  12.8k  13.5k  14.2k  13.8k  15.3k  18.2k  \n",
       "4  ...    76k    79k    70k  69.2k  71.7k  73.5k  75.2k  71.1k  76.8k  87.3k  \n",
       "\n",
       "[5 rows x 34 columns]"
      ]
     },
     "execution_count": 27,
     "metadata": {},
     "output_type": "execute_result"
    }
   ],
   "source": [
    "gni.head()"
   ]
  },
  {
   "cell_type": "code",
   "execution_count": 28,
   "metadata": {},
   "outputs": [],
   "source": [
    "gni = pd.melt(gni, id_vars=['country'], var_name='year', value_name='gni')\n",
    "pop = pd.melt(pop, id_vars=['country'], var_name='year', value_name='population')\n",
    "life = pd.melt(life, id_vars=['country'], var_name='year', value_name='life_expectancy')"
   ]
  },
  {
   "cell_type": "code",
   "execution_count": 29,
   "metadata": {},
   "outputs": [
    {
     "ename": "TypeError",
     "evalue": "loop of ufunc does not support argument 0 of type str which has no callable log2 method",
     "output_type": "error",
     "traceback": [
      "\u001b[0;31m---------------------------------------------------------------------------\u001b[0m",
      "\u001b[0;31mAttributeError\u001b[0m                            Traceback (most recent call last)",
      "\u001b[0;31mAttributeError\u001b[0m: 'str' object has no attribute 'log2'",
      "\nThe above exception was the direct cause of the following exception:\n",
      "\u001b[0;31mTypeError\u001b[0m                                 Traceback (most recent call last)",
      "\u001b[1;32m/Users/muhammadraza/Documents/GitHub/gapminder/app/test.ipynb Cell 5\u001b[0m line \u001b[0;36m1\n\u001b[0;32m----> <a href='vscode-notebook-cell:/Users/muhammadraza/Documents/GitHub/gapminder/app/test.ipynb#X25sZmlsZQ%3D%3D?line=0'>1</a>\u001b[0m gni[\u001b[39m'\u001b[39m\u001b[39mlog_gni\u001b[39m\u001b[39m'\u001b[39m] \u001b[39m=\u001b[39m np\u001b[39m.\u001b[39;49mlog2(gni[\u001b[39m'\u001b[39;49m\u001b[39mgni\u001b[39;49m\u001b[39m'\u001b[39;49m])\n",
      "File \u001b[0;32m/Library/Frameworks/Python.framework/Versions/3.10/lib/python3.10/site-packages/pandas/core/generic.py:2102\u001b[0m, in \u001b[0;36mNDFrame.__array_ufunc__\u001b[0;34m(self, ufunc, method, *inputs, **kwargs)\u001b[0m\n\u001b[1;32m   2098\u001b[0m \u001b[39m@final\u001b[39m\n\u001b[1;32m   2099\u001b[0m \u001b[39mdef\u001b[39;00m \u001b[39m__array_ufunc__\u001b[39m(\n\u001b[1;32m   2100\u001b[0m     \u001b[39mself\u001b[39m, ufunc: np\u001b[39m.\u001b[39mufunc, method: \u001b[39mstr\u001b[39m, \u001b[39m*\u001b[39minputs: Any, \u001b[39m*\u001b[39m\u001b[39m*\u001b[39mkwargs: Any\n\u001b[1;32m   2101\u001b[0m ):\n\u001b[0;32m-> 2102\u001b[0m     \u001b[39mreturn\u001b[39;00m arraylike\u001b[39m.\u001b[39;49marray_ufunc(\u001b[39mself\u001b[39;49m, ufunc, method, \u001b[39m*\u001b[39;49minputs, \u001b[39m*\u001b[39;49m\u001b[39m*\u001b[39;49mkwargs)\n",
      "File \u001b[0;32m/Library/Frameworks/Python.framework/Versions/3.10/lib/python3.10/site-packages/pandas/core/arraylike.py:396\u001b[0m, in \u001b[0;36marray_ufunc\u001b[0;34m(self, ufunc, method, *inputs, **kwargs)\u001b[0m\n\u001b[1;32m    393\u001b[0m \u001b[39melif\u001b[39;00m \u001b[39mself\u001b[39m\u001b[39m.\u001b[39mndim \u001b[39m==\u001b[39m \u001b[39m1\u001b[39m:\n\u001b[1;32m    394\u001b[0m     \u001b[39m# ufunc(series, ...)\u001b[39;00m\n\u001b[1;32m    395\u001b[0m     inputs \u001b[39m=\u001b[39m \u001b[39mtuple\u001b[39m(extract_array(x, extract_numpy\u001b[39m=\u001b[39m\u001b[39mTrue\u001b[39;00m) \u001b[39mfor\u001b[39;00m x \u001b[39min\u001b[39;00m inputs)\n\u001b[0;32m--> 396\u001b[0m     result \u001b[39m=\u001b[39m \u001b[39mgetattr\u001b[39;49m(ufunc, method)(\u001b[39m*\u001b[39;49minputs, \u001b[39m*\u001b[39;49m\u001b[39m*\u001b[39;49mkwargs)\n\u001b[1;32m    397\u001b[0m \u001b[39melse\u001b[39;00m:\n\u001b[1;32m    398\u001b[0m     \u001b[39m# ufunc(dataframe)\u001b[39;00m\n\u001b[1;32m    399\u001b[0m     \u001b[39mif\u001b[39;00m method \u001b[39m==\u001b[39m \u001b[39m\"\u001b[39m\u001b[39m__call__\u001b[39m\u001b[39m\"\u001b[39m \u001b[39mand\u001b[39;00m \u001b[39mnot\u001b[39;00m kwargs:\n\u001b[1;32m    400\u001b[0m         \u001b[39m# for np.<ufunc>(..) calls\u001b[39;00m\n\u001b[1;32m    401\u001b[0m         \u001b[39m# kwargs cannot necessarily be handled block-by-block, so only\u001b[39;00m\n\u001b[1;32m    402\u001b[0m         \u001b[39m# take this path if there are no kwargs\u001b[39;00m\n",
      "\u001b[0;31mTypeError\u001b[0m: loop of ufunc does not support argument 0 of type str which has no callable log2 method"
     ]
    }
   ],
   "source": [
    "gni['log_gni'] = np.log2(gni['gni'])"
   ]
  }
 ],
 "metadata": {
  "kernelspec": {
   "display_name": "Python 3",
   "language": "python",
   "name": "python3"
  },
  "language_info": {
   "codemirror_mode": {
    "name": "ipython",
    "version": 3
   },
   "file_extension": ".py",
   "mimetype": "text/x-python",
   "name": "python",
   "nbconvert_exporter": "python",
   "pygments_lexer": "ipython3",
   "version": "3.10.11"
  }
 },
 "nbformat": 4,
 "nbformat_minor": 2
}
